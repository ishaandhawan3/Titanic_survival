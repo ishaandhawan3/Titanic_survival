{
 "cells": [
  {
   "cell_type": "code",
   "execution_count": 10,
   "id": "d98239d9-d0ff-46dc-8cd2-fee09092eaec",
   "metadata": {},
   "outputs": [],
   "source": [
    "import numpy as np\n",
    "import pandas as pd\n"
   ]
  },
  {
   "cell_type": "code",
   "execution_count": 11,
   "id": "b04188be-ef2e-41e2-8dba-f19e8f8b2a6c",
   "metadata": {},
   "outputs": [],
   "source": [
    "from sklearn.model_selection import train_test_split\n",
    "from sklearn.ensemble import RandomForestClassifier\n",
    "from sklearn.linear_model import LogisticRegression\n",
    "from sklearn.neighbors import KNeighborsClassifier\n",
    "from sklearn.metrics import accuracy_score, classification_report"
   ]
  },
  {
   "cell_type": "code",
   "execution_count": 12,
   "id": "1e2d00a4-4c77-4f35-84e1-4b8a079bc306",
   "metadata": {},
   "outputs": [],
   "source": [
    "# Loading the datasets\n",
    "train_df = pd.read_csv('train.csv')\n",
    "test_df = pd.read_csv('test.csv')\n",
    "gender_submission_df = pd.read_csv('gender_submission.csv')"
   ]
  },
  {
   "cell_type": "code",
   "execution_count": 14,
   "id": "31aa9650-d44b-4974-b5bb-1eb416cd5d84",
   "metadata": {},
   "outputs": [],
   "source": [
    "# Preprocessing: Handle missing values and encode categorical variables\n",
    "train_df['Age'] = train_df['Age'].fillna(train_df['Age'].median())\n",
    "train_df['Embarked'] = train_df['Embarked'].fillna(train_df['Embarked'].mode()[0])\n",
    "train_df['Fare'] = train_df['Fare'].fillna(train_df['Fare'].median())\n",
    "\n",
    "test_df['Age'] = test_df['Age'].fillna(test_df['Age'].median())\n",
    "test_df['Fare'] = test_df['Fare'].fillna(test_df['Fare'].median())\n",
    "\n",
    "# Convert categorical features to numerical values (e.g., 'Sex' and 'Embarked')\n",
    "train_df['Sex'] = train_df['Sex'].map({'male': 0, 'female': 1})\n",
    "test_df['Sex'] = test_df['Sex'].map({'male': 0, 'female': 1})\n",
    "train_df = pd.get_dummies(train_df, columns=['Embarked'])\n",
    "test_df = pd.get_dummies(test_df, columns=['Embarked'])\n"
   ]
  },
  {
   "cell_type": "code",
   "execution_count": 15,
   "id": "c78bcfff-a627-4636-93b5-95120ac31c4a",
   "metadata": {},
   "outputs": [],
   "source": [
    "# Defining features and target variable\n",
    "X = train_df[['Pclass', 'Sex', 'Age', 'SibSp', 'Parch', 'Fare', 'Embarked_C', 'Embarked_Q', 'Embarked_S']]\n",
    "y = train_df['Survived']\n",
    "X_test = test_df[['Pclass', 'Sex', 'Age', 'SibSp', 'Parch', 'Fare', 'Embarked_C', 'Embarked_Q', 'Embarked_S']]"
   ]
  },
  {
   "cell_type": "code",
   "execution_count": 16,
   "id": "3bd60e7b-0ba3-4d7f-8a51-f0655be8e800",
   "metadata": {},
   "outputs": [],
   "source": [
    "# Split train data for validation\n",
    "train_X, val_X, train_y, val_y = train_test_split(X, y, test_size=0.2, random_state=1)"
   ]
  },
  {
   "cell_type": "code",
   "execution_count": 17,
   "id": "def36a01-3419-4808-a03a-49d1ef789e49",
   "metadata": {},
   "outputs": [
    {
     "name": "stdout",
     "output_type": "stream",
     "text": [
      "Random Forest Classifier\n",
      "Accuracy: 0.7932960893854749\n",
      "Classification Report:\n",
      "               precision    recall  f1-score   support\n",
      "\n",
      "           0       0.79      0.90      0.84       106\n",
      "           1       0.81      0.64      0.72        73\n",
      "\n",
      "    accuracy                           0.79       179\n",
      "   macro avg       0.80      0.77      0.78       179\n",
      "weighted avg       0.80      0.79      0.79       179\n",
      "\n"
     ]
    }
   ],
   "source": [
    "# Random Forest Classifier\n",
    "rf_model = RandomForestClassifier(random_state=1)\n",
    "rf_model.fit(train_X, train_y)\n",
    "rf_preds = rf_model.predict(val_X)\n",
    "print(\"Random Forest Classifier\")\n",
    "print(\"Accuracy:\", accuracy_score(val_y, rf_preds))\n",
    "print(\"Classification Report:\\n\", classification_report(val_y, rf_preds))"
   ]
  },
  {
   "cell_type": "code",
   "execution_count": 19,
   "id": "7d4d652e-9cd4-4757-bf6c-b936d6aec1c9",
   "metadata": {},
   "outputs": [
    {
     "name": "stdout",
     "output_type": "stream",
     "text": [
      "\n",
      "Logistic Regression\n",
      "Accuracy: 0.7988826815642458\n",
      "Classification Report:\n",
      "               precision    recall  f1-score   support\n",
      "\n",
      "           0       0.82      0.84      0.83       106\n",
      "           1       0.76      0.74      0.75        73\n",
      "\n",
      "    accuracy                           0.80       179\n",
      "   macro avg       0.79      0.79      0.79       179\n",
      "weighted avg       0.80      0.80      0.80       179\n",
      "\n"
     ]
    }
   ],
   "source": [
    "# Logistic Regression\n",
    "lr_model = LogisticRegression(max_iter=1000, random_state=1)\n",
    "lr_model.fit(train_X, train_y)\n",
    "lr_preds = lr_model.predict(val_X)\n",
    "print(\"\\nLogistic Regression\")\n",
    "print(\"Accuracy:\", accuracy_score(val_y, lr_preds))\n",
    "print(\"Classification Report:\\n\", classification_report(val_y, lr_preds))"
   ]
  },
  {
   "cell_type": "code",
   "execution_count": 20,
   "id": "a6e18fee-dac6-4635-86a0-11eac681eda3",
   "metadata": {},
   "outputs": [
    {
     "name": "stdout",
     "output_type": "stream",
     "text": [
      "\n",
      "K-Nearest Neighbors\n",
      "Accuracy: 0.6871508379888268\n",
      "Classification Report:\n",
      "               precision    recall  f1-score   support\n",
      "\n",
      "           0       0.70      0.84      0.76       106\n",
      "           1       0.67      0.47      0.55        73\n",
      "\n",
      "    accuracy                           0.69       179\n",
      "   macro avg       0.68      0.65      0.65       179\n",
      "weighted avg       0.68      0.69      0.67       179\n",
      "\n"
     ]
    }
   ],
   "source": [
    "# K-Nearest Neighbors\n",
    "knn_model = KNeighborsClassifier(n_neighbors=5)\n",
    "knn_model.fit(train_X, train_y)\n",
    "knn_preds = knn_model.predict(val_X)\n",
    "print(\"\\nK-Nearest Neighbors\")\n",
    "print(\"Accuracy:\", accuracy_score(val_y, knn_preds))\n",
    "print(\"Classification Report:\\n\", classification_report(val_y, knn_preds))"
   ]
  },
  {
   "cell_type": "code",
   "execution_count": 21,
   "id": "6e6fc258-ddb6-40c1-b48d-360b12bc61a7",
   "metadata": {},
   "outputs": [],
   "source": [
    "final_preds = rf_model.predict(X_test)"
   ]
  },
  {
   "cell_type": "code",
   "execution_count": 22,
   "id": "92c27a38-e1b0-4e6c-b6b3-b639ec55ed94",
   "metadata": {},
   "outputs": [],
   "source": [
    "submission = pd.DataFrame({\n",
    "    'PassengerId': test_df['PassengerId'],\n",
    "    'Survived': final_preds\n",
    "})\n"
   ]
  },
  {
   "cell_type": "code",
   "execution_count": 24,
   "id": "b902fb69-7de6-46b6-b1e2-7e7676524ad8",
   "metadata": {},
   "outputs": [
    {
     "name": "stdout",
     "output_type": "stream",
     "text": [
      "Submission file created as 'submission.csv'\n"
     ]
    }
   ],
   "source": [
    "submission.to_csv('submission.csv', index=False)\n",
    "print(\"Submission file created as 'submission.csv'\")"
   ]
  }
 ],
 "metadata": {
  "kernelspec": {
   "display_name": "Python 3 (ipykernel)",
   "language": "python",
   "name": "python3"
  },
  "language_info": {
   "codemirror_mode": {
    "name": "ipython",
    "version": 3
   },
   "file_extension": ".py",
   "mimetype": "text/x-python",
   "name": "python",
   "nbconvert_exporter": "python",
   "pygments_lexer": "ipython3",
   "version": "3.12.4"
  }
 },
 "nbformat": 4,
 "nbformat_minor": 5
}
